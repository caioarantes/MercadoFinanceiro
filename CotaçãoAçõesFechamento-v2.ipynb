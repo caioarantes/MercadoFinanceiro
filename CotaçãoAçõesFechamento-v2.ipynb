{
 "cells": [
  {
   "cell_type": "code",
   "execution_count": 26,
   "metadata": {
    "executionInfo": {
     "elapsed": 23,
     "status": "ok",
     "timestamp": 1661805323126,
     "user": {
      "displayName": "Caio Simplicio Arantes",
      "userId": "16466430760974071349"
     },
     "user_tz": 180
    },
    "id": "VuD2MjMCGU7A"
   },
   "outputs": [],
   "source": [
    "#!pip install yfinance"
   ]
  },
  {
   "cell_type": "code",
   "execution_count": 27,
   "metadata": {
    "executionInfo": {
     "elapsed": 24,
     "status": "ok",
     "timestamp": 1661805323128,
     "user": {
      "displayName": "Caio Simplicio Arantes",
      "userId": "16466430760974071349"
     },
     "user_tz": 180
    },
    "id": "cmsl7KXyGU7F"
   },
   "outputs": [],
   "source": [
    "import pandas as pd\n",
    "from datetime import date\n",
    "import yfinance as yf\n",
    "import warnings\n",
    "warnings.filterwarnings('ignore')"
   ]
  },
  {
   "cell_type": "code",
   "execution_count": 34,
   "metadata": {
    "executionInfo": {
     "elapsed": 23,
     "status": "ok",
     "timestamp": 1661805323131,
     "user": {
      "displayName": "Caio Simplicio Arantes",
      "userId": "16466430760974071349"
     },
     "user_tz": 180
    },
    "id": "R3-ijMCOGU7I"
   },
   "outputs": [],
   "source": [
    "empresas = [\n",
    "'SUZB3',\n",
    "'KLBN11',\n",
    "'RADL3',\n",
    "'CPFE3',\n",
    "'PETR4',\n",
    "'ELET3',\n",
    "'SBSP3',\n",
    "'ABEV3',\n",
    "'B3SA3',\n",
    "'RDOR3',\n",
    "'BMOB3',\n",
    "]"
   ]
  },
  {
   "cell_type": "code",
   "execution_count": 35,
   "metadata": {},
   "outputs": [
    {
     "data": {
      "text/plain": [
       "11"
      ]
     },
     "execution_count": 35,
     "metadata": {},
     "output_type": "execute_result"
    }
   ],
   "source": [
    "len(empresas)"
   ]
  },
  {
   "cell_type": "code",
   "execution_count": 36,
   "metadata": {},
   "outputs": [],
   "source": [
    "match='2022-10-24'"
   ]
  },
  {
   "cell_type": "code",
   "execution_count": 37,
   "metadata": {},
   "outputs": [
    {
     "data": {
      "text/html": [
       "<div>\n",
       "<style scoped>\n",
       "    .dataframe tbody tr th:only-of-type {\n",
       "        vertical-align: middle;\n",
       "    }\n",
       "\n",
       "    .dataframe tbody tr th {\n",
       "        vertical-align: top;\n",
       "    }\n",
       "\n",
       "    .dataframe thead th {\n",
       "        text-align: right;\n",
       "    }\n",
       "</style>\n",
       "<table border=\"1\" class=\"dataframe\">\n",
       "  <thead>\n",
       "    <tr style=\"text-align: right;\">\n",
       "      <th></th>\n",
       "      <th>Empresa</th>\n",
       "      <th>Date</th>\n",
       "      <th>Cotação</th>\n",
       "    </tr>\n",
       "  </thead>\n",
       "  <tbody>\n",
       "  </tbody>\n",
       "</table>\n",
       "</div>"
      ],
      "text/plain": [
       "Empty DataFrame\n",
       "Columns: [Empresa, Date, Cotação]\n",
       "Index: []"
      ]
     },
     "execution_count": 37,
     "metadata": {},
     "output_type": "execute_result"
    }
   ],
   "source": [
    "df = pd.DataFrame(columns=['Empresa', 'Date', 'Cotação'])\n",
    "df"
   ]
  },
  {
   "cell_type": "code",
   "execution_count": 38,
   "metadata": {
    "colab": {
     "base_uri": "https://localhost:8080/",
     "height": 49
    },
    "executionInfo": {
     "elapsed": 25,
     "status": "ok",
     "timestamp": 1661805323130,
     "user": {
      "displayName": "Caio Simplicio Arantes",
      "userId": "16466430760974071349"
     },
     "user_tz": 180
    },
    "id": "MCxcVCy9GU7G",
    "outputId": "78f18094-db5c-4e7a-b3b1-840102906b35"
   },
   "outputs": [
    {
     "data": {
      "text/html": [
       "<div>\n",
       "<style scoped>\n",
       "    .dataframe tbody tr th:only-of-type {\n",
       "        vertical-align: middle;\n",
       "    }\n",
       "\n",
       "    .dataframe tbody tr th {\n",
       "        vertical-align: top;\n",
       "    }\n",
       "\n",
       "    .dataframe thead th {\n",
       "        text-align: right;\n",
       "    }\n",
       "</style>\n",
       "<table border=\"1\" class=\"dataframe\">\n",
       "  <thead>\n",
       "    <tr style=\"text-align: right;\">\n",
       "      <th></th>\n",
       "      <th>Empresa</th>\n",
       "      <th>Date</th>\n",
       "      <th>Cotação</th>\n",
       "    </tr>\n",
       "  </thead>\n",
       "  <tbody>\n",
       "    <tr>\n",
       "      <th>122</th>\n",
       "      <td>SUZB3</td>\n",
       "      <td>2022-10-24 00:00:00</td>\n",
       "      <td>51.419998</td>\n",
       "    </tr>\n",
       "    <tr>\n",
       "      <th>122</th>\n",
       "      <td>KLBN11</td>\n",
       "      <td>2022-10-24 00:00:00</td>\n",
       "      <td>20.950001</td>\n",
       "    </tr>\n",
       "    <tr>\n",
       "      <th>122</th>\n",
       "      <td>RADL3</td>\n",
       "      <td>2022-10-24 00:00:00</td>\n",
       "      <td>24.32</td>\n",
       "    </tr>\n",
       "    <tr>\n",
       "      <th>122</th>\n",
       "      <td>CPFE3</td>\n",
       "      <td>2022-10-24 00:00:00</td>\n",
       "      <td>34.52</td>\n",
       "    </tr>\n",
       "    <tr>\n",
       "      <th>122</th>\n",
       "      <td>ELET3</td>\n",
       "      <td>2022-10-24 00:00:00</td>\n",
       "      <td>48.0</td>\n",
       "    </tr>\n",
       "    <tr>\n",
       "      <th>122</th>\n",
       "      <td>SBSP3</td>\n",
       "      <td>2022-10-24 00:00:00</td>\n",
       "      <td>58.459999</td>\n",
       "    </tr>\n",
       "    <tr>\n",
       "      <th>122</th>\n",
       "      <td>ABEV3</td>\n",
       "      <td>2022-10-24 00:00:00</td>\n",
       "      <td>15.18</td>\n",
       "    </tr>\n",
       "    <tr>\n",
       "      <th>122</th>\n",
       "      <td>B3SA3</td>\n",
       "      <td>2022-10-24 00:00:00</td>\n",
       "      <td>14.04</td>\n",
       "    </tr>\n",
       "    <tr>\n",
       "      <th>122</th>\n",
       "      <td>RDOR3</td>\n",
       "      <td>2022-10-24 00:00:00</td>\n",
       "      <td>29.41</td>\n",
       "    </tr>\n",
       "    <tr>\n",
       "      <th>122</th>\n",
       "      <td>BMOB3</td>\n",
       "      <td>2022-10-24 00:00:00</td>\n",
       "      <td>16.780001</td>\n",
       "    </tr>\n",
       "  </tbody>\n",
       "</table>\n",
       "</div>"
      ],
      "text/plain": [
       "    Empresa                 Date    Cotação\n",
       "122   SUZB3  2022-10-24 00:00:00  51.419998\n",
       "122  KLBN11  2022-10-24 00:00:00  20.950001\n",
       "122   RADL3  2022-10-24 00:00:00      24.32\n",
       "122   CPFE3  2022-10-24 00:00:00      34.52\n",
       "122   ELET3  2022-10-24 00:00:00       48.0\n",
       "122   SBSP3  2022-10-24 00:00:00  58.459999\n",
       "122   ABEV3  2022-10-24 00:00:00      15.18\n",
       "122   B3SA3  2022-10-24 00:00:00      14.04\n",
       "122   RDOR3  2022-10-24 00:00:00      29.41\n",
       "122   BMOB3  2022-10-24 00:00:00  16.780001"
      ]
     },
     "execution_count": 38,
     "metadata": {},
     "output_type": "execute_result"
    }
   ],
   "source": [
    "for codigo in empresas:\n",
    "    try:\n",
    "        df_aux = yf.download(codigo+'.SA', \n",
    "                              start='2022-05-01', \n",
    "                              #end='2022-10-03',\n",
    "                              progress=False,\n",
    "        )\n",
    "        df_aux = df_aux.reset_index(level=0)\n",
    "        df_aux = df_aux[df_aux['Date'] == match].copy()\n",
    "        df_aux['Empresa'] = codigo\n",
    "        df_aux['Cotação'] = df_aux['Close']\n",
    "        df_aux = df_aux[['Empresa','Date','Cotação']].copy()\n",
    "        df = pd.concat([df,df_aux])\n",
    "    except:\n",
    "        df = df.append({'Empresa':codigo, 'Date':'erro', 'Cotação':''}, ignore_index=True)\n",
    "df"
   ]
  },
  {
   "cell_type": "code",
   "execution_count": 39,
   "metadata": {
    "executionInfo": {
     "elapsed": 553,
     "status": "ok",
     "timestamp": 1661805323665,
     "user": {
      "displayName": "Caio Simplicio Arantes",
      "userId": "16466430760974071349"
     },
     "user_tz": 180
    },
    "id": "Kz_5o0ACGU7K"
   },
   "outputs": [],
   "source": [
    "df.to_excel('cotacao_'+match+'.xlsx', index = False, encoding = 'latin')"
   ]
  }
 ],
 "metadata": {
  "colab": {
   "name": "CotaçãoAçõesFechamento.ipynb",
   "provenance": []
  },
  "kernelspec": {
   "display_name": "Python 3 (ipykernel)",
   "language": "python",
   "name": "python3"
  },
  "language_info": {
   "codemirror_mode": {
    "name": "ipython",
    "version": 3
   },
   "file_extension": ".py",
   "mimetype": "text/x-python",
   "name": "python",
   "nbconvert_exporter": "python",
   "pygments_lexer": "ipython3",
   "version": "3.9.12"
  }
 },
 "nbformat": 4,
 "nbformat_minor": 1
}
